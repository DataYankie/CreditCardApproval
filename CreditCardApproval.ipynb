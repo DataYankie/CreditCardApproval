{
 "cells": [
  {
   "cell_type": "markdown",
   "metadata": {},
   "source": [
    "# Predict Credit card Approval\n",
    "Made by\n",
    "- Yannick K. Hartington"
   ]
  },
  {
   "cell_type": "markdown",
   "metadata": {},
   "source": [
    "Our task her is to build a machine learning model to predict if an applicant is 'good' or 'bad' client, were the definition of 'good' or 'bad' is not given. We should also use some techique, such as vintage analysis to construct our label. Lastly, unbalance data problem is a big problem in this task, which we therefore also need to handle. "
   ]
  },
  {
   "cell_type": "markdown",
   "metadata": {},
   "source": [
    "### Import Libraries"
   ]
  },
  {
   "cell_type": "code",
   "execution_count": null,
   "metadata": {},
   "outputs": [],
   "source": [
    "import pandas as pd\n",
    "import os"
   ]
  },
  {
   "cell_type": "markdown",
   "metadata": {},
   "source": [
    "## Inspection of Dataset\n",
    "We will start out with inspecting the data to see what we are working with and if it is proper balanced."
   ]
  },
  {
   "cell_type": "code",
   "execution_count": null,
   "metadata": {},
   "outputs": [],
   "source": [
    "dataset_path = r'/mnt/c/Datasets/Credit Card Approval' # WSL\n",
    "application_record_path = os.path.join(dataset_path, 'application_record')\n",
    "credit_record_path = os.path.join(dataset_path, 'credit_record')"
   ]
  },
  {
   "cell_type": "markdown",
   "metadata": {},
   "source": [
    "## Algorithms\n",
    "We will try out different kinds of algorithms to see, which one performs the best:\n",
    "1. Logistic Regression\n",
    "1. Decision Tree\n",
    "1. Random Forest\n",
    "1. Neural Network\n"
   ]
  }
 ],
 "metadata": {
  "kernelspec": {
   "display_name": "tfgpu",
   "language": "python",
   "name": "python3"
  },
  "language_info": {
   "name": "python",
   "version": "3.11.0"
  }
 },
 "nbformat": 4,
 "nbformat_minor": 2
}
