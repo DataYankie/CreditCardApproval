{
 "cells": [
  {
   "cell_type": "markdown",
   "metadata": {},
   "source": [
    "# Ensemble model"
   ]
  },
  {
   "cell_type": "code",
   "execution_count": 2,
   "metadata": {},
   "outputs": [],
   "source": [
    "from Functions import get_result, get_best_threshold, plot_roc_curve, save_metrics_to_json\n",
    "import pandas as pd\n",
    "import pickle\n",
    "import numpy as np\n",
    "import xgboost as xgb\n",
    "from keras.models import load_model\n",
    "from sklearn.ensemble import VotingClassifier\n",
    "from sklearn.base import BaseEstimator, ClassifierMixin"
   ]
  },
  {
   "cell_type": "code",
   "execution_count": 3,
   "metadata": {},
   "outputs": [],
   "source": [
    "filenames = ['X_train.pkl', 'Y_train.pkl', 'X_val.pkl', 'Y_val.pkl', 'X_test.pkl', 'Y_test.pkl']\n",
    "data_folder = '../data/'\n",
    "dataframes = [pd.read_pickle(data_folder + filename) for filename in filenames]\n",
    "X_train, Y_train, X_val, Y_val, X_test, Y_test = dataframes"
   ]
  },
  {
   "cell_type": "code",
   "execution_count": 4,
   "metadata": {},
   "outputs": [],
   "source": [
    "# Load Random Forest (pickle)\n",
    "with open('Saved models/random_forest_best_model.pkl', 'rb') as file:\n",
    "    rf = pickle.load(file)"
   ]
  },
  {
   "cell_type": "code",
   "execution_count": 5,
   "metadata": {},
   "outputs": [],
   "source": [
    "# Load XGBoost model (JSON)\n",
    "xgb = xgb.XGBClassifier()\n",
    "xgb.load_model('Saved models/xgb_best_model.json')"
   ]
  },
  {
   "cell_type": "code",
   "execution_count": 7,
   "metadata": {},
   "outputs": [],
   "source": [
    "# Load neural network model (keras)\n",
    "nn = load_model('Saved models/NN_best_model.keras')"
   ]
  },
  {
   "cell_type": "markdown",
   "metadata": {},
   "source": [
    "Let's create a function, which will take the previously trained models and either use a 'soft'- or a 'hard'-voting method to predict if a customer is a good or risky customer. \n",
    "- The soft voting takes each models predicted probability for the customer being risky and finds the average. If the average is above 0.5, the customer is predicted as risky. \n",
    "- The hard voting will let each model predict (vote) if a customer is a good or risky customers and the class with the most votes will be the ensemble models prediction."
   ]
  },
  {
   "cell_type": "code",
   "execution_count": null,
   "metadata": {},
   "outputs": [],
   "source": [
    "def votingClassifier(\n",
    "        models: list, \n",
    "        model_names: list[str] = [],\n",
    "        model_thresholds: list[float] = [],\n",
    "        voting: str = 'hard',\n",
    "        test_set: any = X_test\n",
    "        ):\n",
    "    \"\"\"\n",
    "    A voting classifier that supports soft and hard voting.\n",
    "    \n",
    "    Args:\n",
    "        models (list): List of pre-trained models.\n",
    "        model_names (list[str], optional): List of model names. If not provided, default names are assigned.\n",
    "        model_thresholds (list[float], optional): List of thresholds for each model. If not provided, default threshold of 0.5 is used.\n",
    "        voting (str, optional): 'soft' for averaging predicted probabilities,\n",
    "                'hard' for majority voting on class predictions.\n",
    "        test_set (any, optional): Test set for which predictions are required.\n",
    "\n",
    "    Returns:\n",
    "        If voting == 'soft':\n",
    "            A tuple (final_preds, avg_probas) where:\n",
    "              - final_preds is a 1D array of ensemble predictions.\n",
    "              - avg_probas is a 2D array of averaged class probabilities.\n",
    "              \n",
    "        Else (hard voting):\n",
    "            A tuple (final_preds, vote_arr) where:\n",
    "              - final_preds is a 1D array of ensemble predictions.\n",
    "              - vote_arr is a 2D array (n_models x n_samples) containing the individual predicted classes.\n",
    "    \"\"\"\n",
    "\n",
    "    if test_set is None:\n",
    "        raise ValueError(\"Please provide a valid test set.\")\n",
    "    \n",
    "    voting = voting.lower()\n",
    "    if voting not in (\"soft\", \"hard\"):\n",
    "        raise ValueError(\"voting parameter must be either 'soft' or 'hard'\")\n",
    "\n",
    "    if not model_names:\n",
    "        for i in range(len(models)):\n",
    "            model_names.append(f'model_{i}')\n",
    "\n",
    "    if len(models) != len(model_names):\n",
    "        raise ValueError(\"models and model_names must be of equal length!\")\n",
    "    \n",
    "    predictions = {}\n",
    "    for model, name in zip(models, model_names):\n",
    "        try:\n",
    "            predictions[name] = model.predict_proba(test_set)[:, 1]\n",
    "        except AttributeError: \n",
    "            predictions[name] = model.predict(test_set).flatten()  # for keras nerual network\n",
    "    \n",
    "    if voting == 'soft': # Soft voting: average the predicted probabilities across models.\n",
    "        all_probas = np.array(list(predictions.values())) # Convert the dict values into a 3D array with shape (n_models, n_samples, n_classes)\n",
    "        avg_probas = np.mean(all_probas, axis=0) # Calculate the mean probabilities\n",
    "        final_preds = (avg_probas > 0.5).astype(int)\n",
    "\n",
    "        return final_preds, avg_probas\n",
    "    else: # Hard voting: for each model, choose the class with the highest probability\n",
    "        if model_thresholds and (len(model_thresholds) == len(models)):\n",
    "            # Use the provided thresholds for each model.\n",
    "            vote_arr = np.array([(probas > thr).astype(int) for probas, thr in zip(predictions.values(), model_thresholds)]) # Convert the dict values into a 2D array with shape (n_models, n_samples) with the predicted value for each model\n",
    "        else:\n",
    "            # Fallback: use 0.5 as threshold for all models.\n",
    "            vote_arr = np.array([(probas > 0.5).astype(int) for probas in predictions.values()]) # Convert the dict values into a 2D array with shape (n_models, n_samples) with the predicted value for each model\n",
    "        n_samples = vote_arr.shape[1] \n",
    "        final_preds = []\n",
    "        for i in range(n_samples): # For each sample, count votes across models.\n",
    "            sample_votes = vote_arr[:, i]\n",
    "            counts = np.bincount(sample_votes)\n",
    "            # Choose the class with the highest count.\n",
    "            final_preds.append(np.argmax(counts))\n",
    "        final_preds = np.array(final_preds)\n",
    "        return final_preds, vote_arr\n"
   ]
  },
  {
   "cell_type": "markdown",
   "metadata": {},
   "source": [
    "Let's take the best thresholds that was found for the different models that was trained"
   ]
  },
  {
   "cell_type": "code",
   "execution_count": null,
   "metadata": {},
   "outputs": [],
   "source": [
    "thresholds = pd.read_json('Model_metrics.json').loc['threshold']\n",
    "thresholds"
   ]
  },
  {
   "cell_type": "markdown",
   "metadata": {},
   "source": [
    "Now let's use the votingClassifier function, where we'll use it with 'hard' voting. "
   ]
  },
  {
   "cell_type": "code",
   "execution_count": 12,
   "metadata": {},
   "outputs": [
    {
     "name": "stdout",
     "output_type": "stream",
     "text": [
      "   1/1067 [..............................] - ETA: 8:21"
     ]
    },
    {
     "name": "stderr",
     "output_type": "stream",
     "text": [
      "2025-02-15 11:47:07.354366: I external/local_tsl/tsl/platform/default/subprocess.cc:304] Start cannot spawn child process: No such file or directory\n"
     ]
    },
    {
     "name": "stdout",
     "output_type": "stream",
     "text": [
      "1067/1067 [==============================] - 2s 2ms/step\n"
     ]
    }
   ],
   "source": [
    "test_predictions, votes = votingClassifier(\n",
    "    models = [rf, xgb, nn],\n",
    "    model_names = ['rf', 'xgb', 'nn'],\n",
    "    model_thresholds=[thresholds['RandomForest'], thresholds['XGBoost'], thresholds['Neural Network']],\n",
    "    voting = 'hard',\n",
    "    test_set = X_test\n",
    ")"
   ]
  },
  {
   "cell_type": "code",
   "execution_count": 18,
   "metadata": {},
   "outputs": [
    {
     "data": {
      "image/png": "[encoded data removed]",
      "text/plain": [
       "<Figure size 640x480 with 2 Axes>"
      ]
     },
     "metadata": {},
     "output_type": "display_data"
    },
    {
     "name": "stdout",
     "output_type": "stream",
     "text": [
      "Recall       = 0.25\n",
      "Precision    = 0.26\n",
      "F1           = 0.26\n"
     ]
    }
   ],
   "source": [
    "result = get_result(Y_test, test_predictions)"
   ]
  },
  {
   "cell_type": "code",
   "execution_count": 19,
   "metadata": {},
   "outputs": [],
   "source": [
    "save_metrics_to_json('Ensemble model', float(result['recall']), float(result['precision']), float(result['f1']))"
   ]
  }
 ],
 "metadata": {
  "kernelspec": {
   "display_name": "tfgpu",
   "language": "python",
   "name": "python3"
  },
  "language_info": {
   "codemirror_mode": {
    "name": "ipython",
    "version": 3
   },
   "file_extension": ".py",
   "mimetype": "text/x-python",
   "name": "python",
   "nbconvert_exporter": "python",
   "pygments_lexer": "ipython3",
   "version": "3.11.0"
  }
 },
 "nbformat": 4,
 "nbformat_minor": 2
}
